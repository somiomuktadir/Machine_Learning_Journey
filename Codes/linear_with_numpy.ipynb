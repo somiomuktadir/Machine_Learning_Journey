{
 "cells": [
  {
   "cell_type": "markdown",
   "id": "25e3626d-2249-48ef-bf8a-04b74a627b0d",
   "metadata": {},
   "source": [
    "Hello, I will be doing basic linear algebra maths here utilizing programming technonology. I will keep the visualization part to pen-paper. And I will use the textbook of Gil Strang."
   ]
  },
  {
   "cell_type": "markdown",
   "id": "b3f52c7d-3c46-4733-9ba9-5f863fce3245",
   "metadata": {},
   "source": []
  }
 ],
 "metadata": {
  "kernelspec": {
   "display_name": "Python 3 (ipykernel)",
   "language": "python",
   "name": "python3"
  },
  "language_info": {
   "codemirror_mode": {
    "name": "ipython",
    "version": 3
   },
   "file_extension": ".py",
   "mimetype": "text/x-python",
   "name": "python",
   "nbconvert_exporter": "python",
   "pygments_lexer": "ipython3",
   "version": "3.13.7"
  }
 },
 "nbformat": 4,
 "nbformat_minor": 5
}
