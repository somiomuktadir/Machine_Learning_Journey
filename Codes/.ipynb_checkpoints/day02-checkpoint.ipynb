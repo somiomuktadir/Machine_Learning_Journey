{
 "cells": [
  {
   "cell_type": "markdown",
   "id": "e00de10f-e41f-452e-b8bd-1d092b46c0d3",
   "metadata": {},
   "source": [
    "This is day 02 for the practice of some remaining python syntax again. I hope to practice loops, dictionaries,tuples, set and combine these concepts with logical operatiors. But I shall make some things clear (to myself) that I won't be able to able to continue regularly due to study pressure (but I am free this week as classes are off and will be able to go on for 7 consecutive days)"
   ]
  },
  {
   "cell_type": "code",
   "execution_count": 1,
   "id": "968774b5-adb7-4101-a6fb-1e4add27cccd",
   "metadata": {},
   "outputs": [
    {
     "name": "stdout",
     "output_type": "stream",
     "text": [
      "Hello World! It's day-02 of my journey\n"
     ]
    }
   ],
   "source": [
    "print(\"Hello World! It's day-02 of my journey\")"
   ]
  },
  {
   "cell_type": "markdown",
   "id": "adfcc458-0230-44ef-ab94-17d728dd270a",
   "metadata": {},
   "source": [
    "Logical operators allow us to evaluate multiple conditions using the OR, AND & NOT logics."
   ]
  },
  {
   "cell_type": "code",
   "execution_count": 2,
   "id": "13a963b3-5607-4280-9ea0-0b7da8b09f55",
   "metadata": {},
   "outputs": [
    {
     "name": "stdout",
     "output_type": "stream",
     "text": [
      "No event gonna take place\n"
     ]
    }
   ],
   "source": [
    "temp = 30\n",
    "is_raining = True\n",
    "\n",
    "if temp > 35 or temp <0 or is_raining:\n",
    "    print(\"No event gonna take place\")\n",
    "else :\n",
    "    print(\"Event is scheduled\")"
   ]
  },
  {
   "cell_type": "code",
   "execution_count": 3,
   "id": "c7f13cae-5885-4b4f-a85e-9b77e642a246",
   "metadata": {},
   "outputs": [
    {
     "name": "stdout",
     "output_type": "stream",
     "text": [
      "Meow\n"
     ]
    }
   ],
   "source": [
    "temp = 26\n",
    "is_sunny = True\n",
    "\n",
    "if temp>30 and is_sunny:\n",
    "    print(\"It is hot and sunny\")\n",
    "elif 0<temp<25 and is_sunny:\n",
    "    print(\"It is moderately sunny\")\n",
    "else:\n",
    "    print(\"Meow\")"
   ]
  },
  {
   "cell_type": "code",
   "execution_count": 4,
   "id": "bda5415f-7d5b-4078-932c-ffe2595a2ef6",
   "metadata": {},
   "outputs": [
    {
     "name": "stdout",
     "output_type": "stream",
     "text": [
      "It is sunny\n"
     ]
    }
   ],
   "source": [
    "temp = 35\n",
    "is_sunny = False\n",
    "\n",
    "if not is_sunny:\n",
    "    print(\"It is sunny\")\n",
    "else:\n",
    "    print(\"It is not sunny\")"
   ]
  },
  {
   "cell_type": "markdown",
   "id": "5a0d1d33-2286-46ba-afef-075df7335c51",
   "metadata": {},
   "source": [
    "Loops are used to repeat a block of code as long as a condition remains \"True\". We re-check the condition at the end of the loop."
   ]
  },
  {
   "cell_type": "code",
   "execution_count": 6,
   "id": "a651ca19-c6d5-41cb-a399-3de171496de0",
   "metadata": {},
   "outputs": [
    {
     "name": "stdin",
     "output_type": "stream",
     "text": [
      "Enter your name :  \n",
      "Enter your name :  \n",
      "Enter your name :  Muktadir\n"
     ]
    },
    {
     "name": "stdout",
     "output_type": "stream",
     "text": [
      "Hello Muktadir\n"
     ]
    }
   ],
   "source": [
    "# while loops\n",
    "name = input(\"Enter your name : \")\n",
    "\n",
    "while name==\"\":\n",
    "    name = input(\"Enter your name : \")\n",
    "\n",
    "print(f\"Hello {name}\")    "
   ]
  },
  {
   "cell_type": "code",
   "execution_count": 14,
   "id": "66a38cb1-11ff-4c77-9b7a-f4cc63228401",
   "metadata": {},
   "outputs": [
    {
     "name": "stdout",
     "output_type": "stream",
     "text": [
      "1\n",
      "4\n",
      "7\n",
      "10\n"
     ]
    }
   ],
   "source": [
    "# for loops\n",
    "for i in range(1, 11, 3):\n",
    "    print(i)"
   ]
  },
  {
   "cell_type": "code",
   "execution_count": 18,
   "id": "274996d5-13a2-45f9-ade6-ca34b28c0599",
   "metadata": {},
   "outputs": [
    {
     "name": "stdout",
     "output_type": "stream",
     "text": [
      "M_u_k_t_a_d_i_r_"
     ]
    }
   ],
   "source": [
    "name = \"Muktadir\"\n",
    "\n",
    "for letter in name:\n",
    "    print(letter, end = \"_\")"
   ]
  },
  {
   "cell_type": "code",
   "execution_count": 23,
   "id": "6602b1ba-542d-40f8-9f2d-5befef9bfa9a",
   "metadata": {},
   "outputs": [
    {
     "name": "stdout",
     "output_type": "stream",
     "text": [
      "10\n",
      "9\n",
      "8\n",
      "7\n",
      "6\n",
      "5\n",
      "4\n",
      "3\n",
      "2\n",
      "1\n",
      "Time to bounce!\n"
     ]
    }
   ],
   "source": [
    "import time\n",
    "\n",
    "for i in range(10, 0, -1):\n",
    "    print(i)\n",
    "    time.sleep(1)\n",
    "    \n",
    "print(\"Time to bounce!\")"
   ]
  },
  {
   "cell_type": "markdown",
   "id": "b40060ea-838b-4903-9583-07b2d92150df",
   "metadata": {},
   "source": [
    "List, tuple and set : lists are mutable and most flexible, tuples are mutable and faster, sets are mutable but unordered, allows no duplicates (sets are good for membership testing)"
   ]
  },
  {
   "cell_type": "code",
   "execution_count": 28,
   "id": "df03960c-c3f0-43e9-a59d-0536bd80484b",
   "metadata": {},
   "outputs": [
    {
     "name": "stdout",
     "output_type": "stream",
     "text": [
      "A_p_p_l_e_"
     ]
    }
   ],
   "source": [
    "fruits = [\"Apple\", \"Orange\", \"Banana\", \"Cocunut\"]\n",
    "\n",
    "for letters in fruits[0]:\n",
    "    print(letters, end = \"_\")"
   ]
  },
  {
   "cell_type": "code",
   "execution_count": null,
   "id": "68c2c67a-ee7d-482e-a6a9-74277b37eda6",
   "metadata": {},
   "outputs": [],
   "source": []
  }
 ],
 "metadata": {
  "kernelspec": {
   "display_name": "Python 3 (ipykernel)",
   "language": "python",
   "name": "python3"
  },
  "language_info": {
   "codemirror_mode": {
    "name": "ipython",
    "version": 3
   },
   "file_extension": ".py",
   "mimetype": "text/x-python",
   "name": "python",
   "nbconvert_exporter": "python",
   "pygments_lexer": "ipython3",
   "version": "3.13.7"
  }
 },
 "nbformat": 4,
 "nbformat_minor": 5
}
