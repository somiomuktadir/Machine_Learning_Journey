{
 "cells": [
  {
   "cell_type": "markdown",
   "id": "2ffefc31-3a9a-452e-9572-dfd353a530d4",
   "metadata": {},
   "source": [
    "This is the day three of my journey in machine learning and I will be looking at some OOP concepts today"
   ]
  },
  {
   "cell_type": "code",
   "execution_count": 13,
   "id": "552e13c9-408c-4bae-a3ea-25514ce61aac",
   "metadata": {},
   "outputs": [
    {
     "name": "stdout",
     "output_type": "stream",
     "text": [
      "OOP is HOT!!\n"
     ]
    }
   ],
   "source": [
    "print(\"OOP is HOT!!\")"
   ]
  },
  {
   "cell_type": "markdown",
   "id": "81431638-3478-4da4-b28f-c43b01b9afd5",
   "metadata": {},
   "source": [
    "OOP(Object Oriented Programming) is a way of organizing code that uses objects and classes to represent real-world entities and their behavior. In OOP, object has attributes thing that has specific data and can perform certain actions using methods."
   ]
  },
  {
   "cell_type": "code",
   "execution_count": 14,
   "id": "e26a8727-a5db-4cec-9bb7-8ebf65815d60",
   "metadata": {},
   "outputs": [],
   "source": [
    "#A class is a collection of objects. \n",
    "#Classes are blueprints for creating objects. \n",
    "#A class defines a set of attributes and methods that the created objects (instances) can have.\n",
    "\n",
    "\n",
    "class Dog:\n",
    "    species = \"Canine\"  # Class attribute\n",
    "\n",
    "    def __init__(self, name, age):\n",
    "        self.name = name  # Instance attribute\n",
    "        self.age = age  # Instance attribute"
   ]
  },
  {
   "cell_type": "code",
   "execution_count": 15,
   "id": "9c7489ec-e469-49ab-84c4-1d3ec05fb6c7",
   "metadata": {},
   "outputs": [
    {
     "name": "stdout",
     "output_type": "stream",
     "text": [
      "Muktadir\n",
      "Sapiens\n",
      "19\n"
     ]
    }
   ],
   "source": [
    "#An Object is an instance of a Class.\n",
    "#It represents a specific implementation of the class and holds its own data.\n",
    "\n",
    "class Students:\n",
    "    species = \"Sapiens\"  # Class attribute\n",
    "\n",
    "    def __init__(self, name, age):\n",
    "        self.name = name  # Instance attribute\n",
    "        self.age = age  # Instance attribute\n",
    "\n",
    "# Creating an object of the Students class\n",
    "student1 = Students(\"Muktadir\", 19)\n",
    "\n",
    "print(student1.name) \n",
    "print(student1.species)\n",
    "print(student1.age)"
   ]
  },
  {
   "cell_type": "code",
   "execution_count": 16,
   "id": "42f5a0b9-feb3-4f57-899a-a56eb5f4d1bc",
   "metadata": {
    "jupyter": {
     "source_hidden": true
    }
   },
   "outputs": [
    {
     "name": "stdout",
     "output_type": "stream",
     "text": [
      "Catus\n",
      "Tom 2\n",
      "Spike 3\n"
     ]
    }
   ],
   "source": [
    "class Cats:\n",
    "    species = \"Catus\"\n",
    "\n",
    "    def __init__(self, name, age):\n",
    "        self.name = name\n",
    "        self.age = age\n",
    "\n",
    "cat1 = Cats(\"Tom\", 2)\n",
    "cat2 = Cats(\"Spike\", 3)\n",
    "\n",
    "print(Cats.species)\n",
    "print(cat1.name, cat1.age)\n",
    "print(cat2.name, cat2.age)\n"
   ]
  },
  {
   "cell_type": "markdown",
   "id": "e565392e-c7b3-452d-873b-932cec26be0e",
   "metadata": {},
   "source": [
    "# Inheritance allows a class (child class) to acquire properties and methods of another class (parent class). \n",
    "# It supports hierarchical classification and promotes code reuse.\n",
    "\n",
    "#Types of Inheritance:\n",
    "\n",
    "#Single Inheritance: A child class inherits from a single parent class.\n",
    "#Multiple Inheritance: A child class inherits from more than one parent class.\n",
    "#Multilevel Inheritance: A child class inherits from a parent class, which in turn inherits from another class.\n",
    "#Hierarchical Inheritance: Multiple child classes inherit from a single parent class.\n",
    "#Hybrid Inheritance: A combination of two or more types of inheritance."
   ]
  },
  {
   "cell_type": "code",
   "execution_count": null,
   "id": "6cab3581-4c5a-41c4-b56c-46ba4f3392f3",
   "metadata": {},
   "outputs": [],
   "source": []
  }
 ],
 "metadata": {
  "kernelspec": {
   "display_name": "Python 3 (ipykernel)",
   "language": "python",
   "name": "python3"
  },
  "language_info": {
   "codemirror_mode": {
    "name": "ipython",
    "version": 3
   },
   "file_extension": ".py",
   "mimetype": "text/x-python",
   "name": "python",
   "nbconvert_exporter": "python",
   "pygments_lexer": "ipython3",
   "version": "3.13.7"
  }
 },
 "nbformat": 4,
 "nbformat_minor": 5
}
