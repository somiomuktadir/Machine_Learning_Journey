{
 "cells": [
  {
   "cell_type": "code",
   "execution_count": 23,
   "id": "fe260d6f-67d7-4e1f-a136-5b0f167629e3",
   "metadata": {},
   "outputs": [
    {
     "name": "stdout",
     "output_type": "stream",
     "text": [
      "Hello World!\n"
     ]
    }
   ],
   "source": [
    "print(\"Hello World!\")"
   ]
  },
  {
   "cell_type": "markdown",
   "id": "5ece07b4-f698-49a1-a120-f8f8b3aa0851",
   "metadata": {},
   "source": [
    "1. This is the first day. I practiced the python syntax and this file contains input-output, data types,typecasting, basic arithmatics, typecasting, conditional statements etc."
   ]
  },
  {
   "cell_type": "code",
   "execution_count": 2,
   "id": "cde82a78-bc5a-4b47-8ae5-03b964b36920",
   "metadata": {},
   "outputs": [
    {
     "name": "stdout",
     "output_type": "stream",
     "text": [
      "I love Python!\n",
      "Python is versatile and really good\n"
     ]
    }
   ],
   "source": [
    "# I love python in sense of programming, not in real-life.\n",
    "print(\"Python is versatile and really good\")"
   ]
  },
  {
   "cell_type": "code",
   "execution_count": 4,
   "id": "f2a9637f-e495-4be1-b156-f20466bd6565",
   "metadata": {},
   "outputs": [
    {
     "name": "stdout",
     "output_type": "stream",
     "text": [
      "My name is Muktadir Somio and my age is 20\n"
     ]
    }
   ],
   "source": [
    "name = \"Muktadir Somio\"\n",
    "age = 20\n",
    "print(f\"My name is {name} and my age is {age}\")"
   ]
  },
  {
   "cell_type": "code",
   "execution_count": 8,
   "id": "e87aa496-4d00-453b-b6ff-21651ea4e88a",
   "metadata": {},
   "outputs": [
    {
     "name": "stdout",
     "output_type": "stream",
     "text": [
      "You can access this server for free\n",
      "Collect credentials from your student dashboard\n"
     ]
    }
   ],
   "source": [
    "# Boolean data type\n",
    "\n",
    "is_student=True\n",
    "if is_student:\n",
    "    print(\"You can access this server for free\")\n",
    "    print(\"Collect credentials from your student dashboard\")\n",
    "else:\n",
    "    print(\"You do not have access to this server\")"
   ]
  },
  {
   "cell_type": "code",
   "execution_count": 21,
   "id": "ed0d0f81-3cb3-4ac7-8119-7208a89c8228",
   "metadata": {},
   "outputs": [
    {
     "name": "stdout",
     "output_type": "stream",
     "text": [
      "I have 2 friends.\n",
      "Make sure you trust them.\n"
     ]
    }
   ],
   "source": [
    "friends=5\n",
    "friends-=3\n",
    "print(f\"I have {friends} friends.\")\n",
    "if (friends==0):\n",
    "    print(\"Go make some trusty ones!\")\n",
    "else:\n",
    "    print(\"Make sure you trust them.\")"
   ]
  },
  {
   "cell_type": "code",
   "execution_count": 35,
   "id": "2e5c93fd-a167-4974-8a84-f35e077e4a80",
   "metadata": {},
   "outputs": [
    {
     "name": "stdout",
     "output_type": "stream",
     "text": [
      "4\n",
      "<class 'str'>\n"
     ]
    }
   ],
   "source": [
    "first_name = \"Muktadir\"\n",
    "is_not_student = False\n",
    "birth_month = 9\n",
    "my_gpa = 3.6\n",
    "\n",
    "# Basic typecasting, rounding\n",
    "\n",
    "my_gpa = round(my_gpa)\n",
    "print(my_gpa)\n",
    "print(type(str(age)))"
   ]
  },
  {
   "cell_type": "code",
   "execution_count": 49,
   "id": "6b06af71-a1e0-417d-a385-8d6861870323",
   "metadata": {},
   "outputs": [
    {
     "name": "stdout",
     "output_type": "stream",
     "text": [
      "False\n",
      "True\n"
     ]
    }
   ],
   "source": [
    "# Basic string boolean\n",
    "my_name = \"\"\n",
    "print(bool(my_name))\n",
    "your_name = \"Adam Levine\"\n",
    "print(bool(your_name))\n",
    "# It can be noticed that boolean value is false for an empty string and true for a non-empty string."
   ]
  },
  {
   "cell_type": "code",
   "execution_count": 52,
   "id": "1c7e4e5a-3450-4fa0-8c03-8f5dcc8e3ceb",
   "metadata": {},
   "outputs": [
    {
     "name": "stdin",
     "output_type": "stream",
     "text": [
      "Enter your age please :  20\n"
     ]
    },
    {
     "name": "stdout",
     "output_type": "stream",
     "text": [
      "You are not eligible to use the shop-A\n",
      "You can still use shop-B and shop-C\n"
     ]
    }
   ],
   "source": [
    "# Basic conditional statements (if, elif, else)\n",
    "\n",
    "age = int(input(\"Enter your age please : \"))\n",
    "\n",
    "if age >=21:\n",
    "    print(\"You are eligible to use shop-A\")\n",
    "else :\n",
    "    print(\"You are not eligible to use the shop-A\")\n",
    "    print(\"You can still use shop-B and shop-C\")"
   ]
  },
  {
   "cell_type": "code",
   "execution_count": null,
   "id": "57738c9c-2483-46e6-962e-2df9dcd782a6",
   "metadata": {},
   "outputs": [],
   "source": []
  }
 ],
 "metadata": {
  "kernelspec": {
   "display_name": "Python 3 (ipykernel)",
   "language": "python",
   "name": "python3"
  },
  "language_info": {
   "codemirror_mode": {
    "name": "ipython",
    "version": 3
   },
   "file_extension": ".py",
   "mimetype": "text/x-python",
   "name": "python",
   "nbconvert_exporter": "python",
   "pygments_lexer": "ipython3",
   "version": "3.13.7"
  }
 },
 "nbformat": 4,
 "nbformat_minor": 5
}
