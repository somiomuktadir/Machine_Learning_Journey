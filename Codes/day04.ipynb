{
 "cells": [
  {
   "cell_type": "markdown",
   "id": "9175e36b-815d-4d64-a93f-59c30b3ad80d",
   "metadata": {},
   "source": [
    "Alright, didn't think will be able to do this today, as I traveled all the day. But anyways, HELLO WORLD! and this is the second day of OOP( fourth day of my machine learning journey) and I will conclude the basic syntax today) and then move on to learning data structures with numpy, pandas and try to visualize things with matplotlib and seaborn."
   ]
  },
  {
   "cell_type": "code",
   "execution_count": 1,
   "id": "23ea03cc-7ced-4a40-9af8-3148ec07913e",
   "metadata": {},
   "outputs": [
    {
     "name": "stdout",
     "output_type": "stream",
     "text": [
      "OOP is super duper HOT!!\n"
     ]
    }
   ],
   "source": [
    "print(\"OOP is super duper HOT!!\")"
   ]
  },
  {
   "cell_type": "markdown",
   "id": "5b6711c9-9381-41a4-94f2-846e7abf0727",
   "metadata": {},
   "source": [
    "Inheritance allows a class (child class) to acquire the properties and methods of another class (parent class). It supoorts hierachial classification and promotes code reuse. There are some types of inheritance such as single inheritance, multiple inheritance, multileval inheritance, hierarchial inheritence and hybrid inheritence.\n",
    "\n",
    "In this example, we create a Dog class and demonstrate single, multilevel and multiple inheritance. We show how child classes can use or extend parent class methods."
   ]
  },
  {
   "cell_type": "code",
   "execution_count": 7,
   "id": "377ac869-849b-4393-93a0-2f04bca45182",
   "metadata": {},
   "outputs": [
    {
     "name": "stdout",
     "output_type": "stream",
     "text": [
      "Dog's Name: Buddy\n",
      "Labrador woofs\n",
      "Dog's Name: Max\n",
      "MaxGuides the way!\n",
      "Dog's Name: Charlie\n",
      "Friendly!\n",
      "Golden Retriever Barks\n"
     ]
    }
   ],
   "source": [
    "# Single Inheritance\n",
    "class Dog:\n",
    "    def __init__(self, name):\n",
    "        self.name = name\n",
    "\n",
    "    def display_name(self):\n",
    "        print(f\"Dog's Name: {self.name}\")\n",
    "\n",
    "class Labrador(Dog):  # Single Inheritance\n",
    "    def sound(self):\n",
    "        print(\"Labrador woofs\")\n",
    "\n",
    "# Multilevel Inheritance\n",
    "class GuideDog(Labrador):  # Multilevel Inheritance\n",
    "    def guide(self):\n",
    "        print(f\"{self.name}Guides the way!\")\n",
    "\n",
    "# Multiple Inheritance\n",
    "class Friendly:\n",
    "    def greet(self):\n",
    "        print(\"Friendly!\")\n",
    "\n",
    "class GoldenRetriever(Dog, Friendly):  # Multiple Inheritance\n",
    "    def sound(self):\n",
    "        print(\"Golden Retriever Barks\")\n",
    "\n",
    "# Example Usage\n",
    "lab = Labrador(\"Buddy\")\n",
    "lab.display_name()\n",
    "lab.sound()\n",
    "\n",
    "guide_dog = GuideDog(\"Max\")\n",
    "guide_dog.display_name()\n",
    "guide_dog.guide()\n",
    "\n",
    "retriever = GoldenRetriever(\"Charlie\")\n",
    "retriever.display_name()\n",
    "retriever.greet()\n",
    "retriever.sound()\n",
    "\n",
    "#Explanation of the inheritances above:\n",
    "\n",
    "#Single Inheritance: Labrador inherits Dog's attributes and methods.\n",
    "\n",
    "#Multilevel Inheritance: GuideDog extends Labrador, inheriting both Dog and Labrador functionalities.\n",
    "\n",
    "#Multiple Inheritance: GoldenRetriever inherits from both Dog and Friendly."
   ]
  },
  {
   "cell_type": "markdown",
   "id": "783fbf76-1745-4e31-8ba7-51c290617c48",
   "metadata": {},
   "source": [
    "Polymorphism in OOP means \"same operation, different behavior.\" It allows functions or methods with the same name to work differently depending on the type of object they are acting upon."
   ]
  },
  {
   "cell_type": "code",
   "execution_count": 8,
   "id": "b4f4558a-611b-471b-9135-fe75486fb98a",
   "metadata": {},
   "outputs": [
    {
     "name": "stdout",
     "output_type": "stream",
     "text": [
      "15\n",
      "30\n",
      "10\n"
     ]
    }
   ],
   "source": [
    "# Compile time polymorphism\n",
    "\n",
    "class Calculator:\n",
    "    def add(self, *args):\n",
    "        return sum(args)\n",
    "\n",
    "calc = Calculator()\n",
    "print(calc.add(5, 10))       # Two arguments\n",
    "print(calc.add(5, 10, 15))   # Three arguments\n",
    "print(calc.add(1, 2, 3, 4))  # Any number of arguments"
   ]
  },
  {
   "cell_type": "code",
   "execution_count": 9,
   "id": "e2d05b3a-5767-4c54-b94f-01980534c66a",
   "metadata": {},
   "outputs": [
    {
     "name": "stdout",
     "output_type": "stream",
     "text": [
      "Woof!\n",
      "Meow!\n",
      "Woof!\n",
      "Vector(6, 8)\n"
     ]
    }
   ],
   "source": [
    "#Run time polymorphism : method overriding, duck typing, operator overloading\n",
    "\n",
    "# Method Overriding\n",
    "# We start with a base class and then a subclass that \"overrides\" the speak method.\n",
    "class Animal:\n",
    "    def speak(self):\n",
    "        return \"I am an animal.\"\n",
    "\n",
    "class Dog(Animal):\n",
    "    def speak(self):\n",
    "        return \"Woof!\"\n",
    "\n",
    "print(Dog().speak())\n",
    "\n",
    "# 2 Duck Typing\n",
    "class Cat:\n",
    "    def speak(self):\n",
    "        return \"Meow!\"\n",
    "\n",
    "def make_animal_speak(animal):\n",
    "    # This function works for both Dog and Cat because they both have a 'speak' method.\n",
    "    return animal.speak()\n",
    "\n",
    "print(make_animal_speak(Cat()))\n",
    "print(make_animal_speak(Dog()))\n",
    "\n",
    "# 3 Operator Overloading\n",
    "# We create a simple class that customizes the '+' operator.\n",
    "class Vector:\n",
    "    def __init__(self, x, y):\n",
    "        self.x = x\n",
    "        self.y = y\n",
    "\n",
    "    def __add__(self, other):\n",
    "        # This special method defines the behavior of the '+' operator.\n",
    "        return Vector(self.x + other.x, self.y + other.y)\n",
    "\n",
    "    def __repr__(self):\n",
    "        return f\"Vector({self.x}, {self.y})\"\n",
    "\n",
    "v1 = Vector(2, 3)\n",
    "v2 = Vector(4, 5)\n",
    "v3 = v1 + v2\n",
    "\n",
    "print(v3)"
   ]
  },
  {
   "cell_type": "markdown",
   "id": "8a20f563-127e-4fad-bab3-ea968d06c7e8",
   "metadata": {},
   "source": [
    "Encapsulation means the bundling of data (attributes) and methods (functions) within a class, restricting access to some components to control interactions. A class is an example of encapsulation as it encapsulates all the data that is member functions, variables, etc. Encapsulation is of three types : public members(accessible from everywhere), protected members(accessible from the class and subclasses), private members(accessible only within the class)\n",
    "\n",
    "In this following example, we create a Dog class with public, protected and private attributes. We also show how to access and modify private members using getter and setter methods."
   ]
  },
  {
   "cell_type": "code",
   "execution_count": 10,
   "id": "1d3ffb4b-f58c-4211-b0bd-3855a785c38e",
   "metadata": {},
   "outputs": [
    {
     "name": "stdout",
     "output_type": "stream",
     "text": [
      "Buddy\n",
      "Labrador\n",
      "3\n",
      "Name: Buddy, Breed: Labrador, Age: 5\n"
     ]
    }
   ],
   "source": [
    "class Dog:\n",
    "    def __init__(self, name, breed, age):\n",
    "        self.name = name  # Public attribute\n",
    "        self._breed = breed  # Protected attribute\n",
    "        self.__age = age  # Private attribute\n",
    "\n",
    "    # Public method\n",
    "    def get_info(self):\n",
    "        return f\"Name: {self.name}, Breed: {self._breed}, Age: {self.__age}\"\n",
    "\n",
    "    # Getter and Setter for private attribute\n",
    "    def get_age(self):\n",
    "        return self.__age\n",
    "\n",
    "    def set_age(self, age):\n",
    "        if age > 0:\n",
    "            self.__age = age\n",
    "        else:\n",
    "            print(\"Invalid age!\")\n",
    "\n",
    "# Example Usage\n",
    "dog = Dog(\"Buddy\", \"Labrador\", 3)\n",
    "\n",
    "# Accessing public member\n",
    "print(dog.name)  # Accessible\n",
    "\n",
    "# Accessing protected member\n",
    "print(dog._breed)  # Accessible but discouraged outside the class\n",
    "\n",
    "# Accessing private member using getter\n",
    "print(dog.get_age())\n",
    "\n",
    "# Modifying private member using setter\n",
    "dog.set_age(5)\n",
    "print(dog.get_info())"
   ]
  },
  {
   "cell_type": "markdown",
   "id": "938b83e9-a8be-4ded-acfa-1f5a55e2994d",
   "metadata": {},
   "source": [
    "Abstraction hides the internal implementation details while exposing only the necessary functionality. It helps focus on \"what to do\" rather than \"how to do it.\" There are partial abstraction (contains both abstract and concrete methods) and full abstraction (contains only abstract methods (like interfaces))\n",
    "\n",
    "In this following example, we create an abstract Dog class with an abstract method (sound) and a concrete method. Subclasses implement the abstract method while inheriting the concrete method."
   ]
  },
  {
   "cell_type": "code",
   "execution_count": 11,
   "id": "e6f99ab1-696b-419c-ba4d-0fefed126599",
   "metadata": {},
   "outputs": [
    {
     "name": "stdout",
     "output_type": "stream",
     "text": [
      "Dog's Name: Buddy\n",
      "Labrador Woof!\n",
      "Dog's Name: Charlie\n",
      "Beagle Bark!\n"
     ]
    }
   ],
   "source": [
    "from abc import ABC, abstractmethod\n",
    "\n",
    "class Dog(ABC):  # Abstract Class\n",
    "    def __init__(self, name):\n",
    "        self.name = name\n",
    "\n",
    "    @abstractmethod\n",
    "    def sound(self):  # Abstract Method\n",
    "        pass\n",
    "\n",
    "    def display_name(self):  # Concrete Method\n",
    "        print(f\"Dog's Name: {self.name}\")\n",
    "\n",
    "class Labrador(Dog):  # Partial Abstraction\n",
    "    def sound(self):\n",
    "        print(\"Labrador Woof!\")\n",
    "\n",
    "class Beagle(Dog):  # Partial Abstraction\n",
    "    def sound(self):\n",
    "        print(\"Beagle Bark!\")\n",
    "\n",
    "# Example Usage\n",
    "dogs = [Labrador(\"Buddy\"), Beagle(\"Charlie\")]\n",
    "for dog in dogs:\n",
    "    dog.display_name()  # Calls concrete method\n",
    "    dog.sound()  # Calls implemented abstract method"
   ]
  }
 ],
 "metadata": {
  "kernelspec": {
   "display_name": "Python 3 (ipykernel)",
   "language": "python",
   "name": "python3"
  },
  "language_info": {
   "codemirror_mode": {
    "name": "ipython",
    "version": 3
   },
   "file_extension": ".py",
   "mimetype": "text/x-python",
   "name": "python",
   "nbconvert_exporter": "python",
   "pygments_lexer": "ipython3",
   "version": "3.13.7"
  }
 },
 "nbformat": 4,
 "nbformat_minor": 5
}
